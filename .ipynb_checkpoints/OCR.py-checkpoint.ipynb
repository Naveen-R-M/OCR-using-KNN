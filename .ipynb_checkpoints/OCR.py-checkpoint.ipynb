{
 "cells": [
  {
   "cell_type": "markdown",
   "id": "bdcd54e7",
   "metadata": {},
   "source": [
    "###### --------------------------------------------------------------------------------------------------------------------------------------------------------------------------------------------------------\n",
    "###### OCR using KNN\n",
    "###### --------------------------------------------------------------------------------------------------------------------------------------------------------------------------------------------------------"
   ]
  },
  {
   "cell_type": "code",
   "execution_count": 1,
   "id": "2872cc97",
   "metadata": {},
   "outputs": [],
   "source": [
    "import os\n",
    "from dotenv import load_dotenv"
   ]
  },
  {
   "cell_type": "code",
   "execution_count": 2,
   "id": "8337c1d1",
   "metadata": {},
   "outputs": [],
   "source": [
    "from PIL import Image\n",
    "import numpy as np"
   ]
  },
  {
   "cell_type": "code",
   "execution_count": 3,
   "id": "9b62e3a1",
   "metadata": {},
   "outputs": [
    {
     "data": {
      "text/plain": [
       "True"
      ]
     },
     "execution_count": 3,
     "metadata": {},
     "output_type": "execute_result"
    }
   ],
   "source": [
    "load_dotenv()"
   ]
  },
  {
   "cell_type": "code",
   "execution_count": 4,
   "id": "bad6d340",
   "metadata": {},
   "outputs": [],
   "source": [
    "DATA_DIR = os.getenv('DATA_DIR')\n",
    "TEST_DATA = os.getenv('TEST_DATA')\n",
    "TEST_LABELS = os.getenv('TEST_LABELS')\n",
    "TRAIN_DATA = os.getenv('TRAIN_DATA')\n",
    "TRAIN_LABELS = os.getenv('TRAIN_LABELS')\n",
    "OUTPUT_DATA = os.getenv('OUTPUT_DATA')"
   ]
  },
  {
   "cell_type": "code",
   "execution_count": 5,
   "id": "79dd1e3b",
   "metadata": {},
   "outputs": [
    {
     "data": {
      "text/plain": [
       "'C:\\\\Users\\\\HP\\\\Anaconda Projects\\\\Datasets\\\\Data\\\\Mnist Digit\\\\train-images.idx3-ubyte'"
      ]
     },
     "execution_count": 5,
     "metadata": {},
     "output_type": "execute_result"
    }
   ],
   "source": [
    "TRAIN_DATA"
   ]
  },
  {
   "cell_type": "code",
   "execution_count": 6,
   "id": "da9c216f",
   "metadata": {},
   "outputs": [],
   "source": [
    "# DATA_DIR = r'C:\\Users\\HP\\Anaconda Projects\\Datasets\\Data\\Mnist Digit'\n",
    "# TEST_DATA = DATA_DIR + r'\\t10k-images.idx3-ubyte'\n",
    "# TEST_LABELS = DATA_DIR + r'\\t10k-labels.idx1-ubyte'\n",
    "# TRAIN_DATA = DATA_DIR + r'\\train-images.idx3-ubyte'\n",
    "# TRAIN_LABELS = DATA_DIR + r'\\train-labels.idx1-ubyte'\n",
    "\n",
    "# OUTPUT_DATA = r'C:\\Users\\HP\\Anaconda Projects\\Pojects\\OCR\\Output'"
   ]
  },
  {
   "cell_type": "code",
   "execution_count": 7,
   "id": "dd112880",
   "metadata": {},
   "outputs": [],
   "source": [
    "def read_image(path):\n",
    "    return np.asarray(Image.open(path).convert('L'))"
   ]
  },
  {
   "cell_type": "code",
   "execution_count": 8,
   "id": "7605c073",
   "metadata": {},
   "outputs": [],
   "source": [
    "def write_image(image,path):\n",
    "    img = Image.fromarray(np.array(image),'L')\n",
    "    img.save(path)"
   ]
  },
  {
   "cell_type": "code",
   "execution_count": 9,
   "id": "4936206d",
   "metadata": {},
   "outputs": [],
   "source": [
    "def int_to_bytes(int_data):\n",
    "    return int_data.to_bytes(2,'big')"
   ]
  },
  {
   "cell_type": "code",
   "execution_count": 10,
   "id": "3a56355e",
   "metadata": {},
   "outputs": [],
   "source": [
    "def bytes_to_int(byte_data):\n",
    "    return int.from_bytes(byte_data,'big')"
   ]
  },
  {
   "cell_type": "code",
   "execution_count": 11,
   "id": "57b13aad",
   "metadata": {},
   "outputs": [],
   "source": [
    "def read_images(file_name, n_max_images = None):\n",
    "    images = []\n",
    "    with open(file_name,'rb') as f:\n",
    "        magic_number = bytes_to_int(f.read(4))\n",
    "        n_images = bytes_to_int(f.read(4))\n",
    "        n_rows = bytes_to_int(f.read(4))\n",
    "        n_columns = bytes_to_int(f.read(4))\n",
    "        \n",
    "        if n_max_images:\n",
    "            n_images = n_max_images\n",
    "        \n",
    "        print('images : ',n_images)\n",
    "        print('rows : ',n_rows)\n",
    "        print('columns : ',n_columns)\n",
    "        \n",
    "        for index in range(n_images):\n",
    "            image = []\n",
    "            for row in range(n_rows):\n",
    "                row = []\n",
    "                for col in range(n_columns):\n",
    "                    pixel = f.read(1)\n",
    "                    row.append(pixel)\n",
    "                image.append(row)\n",
    "            images.append(image)\n",
    "        return images"
   ]
  },
  {
   "cell_type": "code",
   "execution_count": 12,
   "id": "d9562670",
   "metadata": {},
   "outputs": [],
   "source": [
    "def read_labels(file_name, n_max_labels = None):\n",
    "    labels = []\n",
    "    with open(file_name, 'rb') as f:\n",
    "        magic_number = bytes_to_int(f.read(4))\n",
    "        n_labels = bytes_to_int(f.read(4))\n",
    "        \n",
    "        if n_max_labels:\n",
    "            n_labels = n_max_labels\n",
    "        \n",
    "        for index in range(n_labels):\n",
    "            label = bytes_to_int(f.read(1))\n",
    "            labels.append(label)\n",
    "        return labels\n",
    "            "
   ]
  },
  {
   "cell_type": "code",
   "execution_count": 13,
   "id": "92de59e4",
   "metadata": {},
   "outputs": [],
   "source": [
    "train_samples = 1000\n",
    "test_samples = 20"
   ]
  },
  {
   "cell_type": "code",
   "execution_count": 14,
   "id": "02cd0a36",
   "metadata": {},
   "outputs": [
    {
     "name": "stdout",
     "output_type": "stream",
     "text": [
      "images :  1000\n",
      "rows :  28\n",
      "columns :  28\n"
     ]
    }
   ],
   "source": [
    "X_train = read_images(TRAIN_DATA, train_samples)"
   ]
  },
  {
   "cell_type": "code",
   "execution_count": 15,
   "id": "3d6a5c2e",
   "metadata": {},
   "outputs": [
    {
     "name": "stdout",
     "output_type": "stream",
     "text": [
      "images :  20\n",
      "rows :  28\n",
      "columns :  28\n"
     ]
    }
   ],
   "source": [
    "X_test = read_images(TEST_DATA,test_samples)\n",
    "\n",
    "y_train = read_labels(TRAIN_LABELS,train_samples)\n",
    "\n",
    "y_test = read_labels(TEST_LABELS,test_samples)"
   ]
  },
  {
   "cell_type": "code",
   "execution_count": 16,
   "id": "ecceff91",
   "metadata": {},
   "outputs": [],
   "source": [
    "def flatten_list(sample):\n",
    "    return [pixel for row in sample for pixel in row]\n",
    "\n",
    "def extract_features(X):\n",
    "    return [flatten_list(sample) for sample in X]"
   ]
  },
  {
   "cell_type": "code",
   "execution_count": 17,
   "id": "4db99828",
   "metadata": {},
   "outputs": [],
   "source": [
    "temp = X_train\n",
    "temp1 = X_test"
   ]
  },
  {
   "cell_type": "code",
   "execution_count": 18,
   "id": "20fe9220",
   "metadata": {},
   "outputs": [],
   "source": [
    "X_train = temp\n",
    "X_test = temp1\n",
    "X_train = extract_features(X_train)\n",
    "X_test = extract_features(X_test)"
   ]
  },
  {
   "cell_type": "code",
   "execution_count": 19,
   "id": "e645c87c",
   "metadata": {},
   "outputs": [],
   "source": [
    "def eucledian(train_image, test_image):\n",
    "    return sum(\n",
    "    [\n",
    "       (bytes_to_int(x_i) - bytes_to_int(y_i))**2 for x_i, y_i in zip(train_image,test_image)\n",
    "    ]\n",
    "    )**0.5"
   ]
  },
  {
   "cell_type": "code",
   "execution_count": 20,
   "id": "3744e302",
   "metadata": {},
   "outputs": [],
   "source": [
    "def get_training_distances(X_train, test_image):\n",
    "    return [eucledian(train_image, test_image) for train_image in X_train]"
   ]
  },
  {
   "cell_type": "code",
   "execution_count": 21,
   "id": "3ae38de3",
   "metadata": {},
   "outputs": [],
   "source": [
    "def knn(X_train, X_test, y_train, k = 3):\n",
    "    y_pred = []\n",
    "    indexes = []\n",
    "    for test_image_index, test_image in enumerate(X_test):\n",
    "        training_distances = get_training_distances(X_train, test_image)\n",
    "        training_distances = [index[0] for index in sorted(enumerate(training_distances),key = lambda x : x[1])]\n",
    "        guessed_values = [y_train[index] for index in training_distances[:k]]\n",
    "        y_sample = max(guessed_values, key= guessed_values.count)\n",
    "        y_pred.append(y_sample)\n",
    "        indexes.append(training_distances[guessed_values.index(y_sample)])\n",
    "#         output_image = int_to_bytes(y_train[training_distances[index]])\n",
    "#         write_image(X_train[training_distances[index]],f'{OUTPUT_DATA}{index}.png')\n",
    "    return y_pred, indexes"
   ]
  },
  {
   "cell_type": "code",
   "execution_count": 22,
   "id": "6fe825bb",
   "metadata": {},
   "outputs": [
    {
     "data": {
      "text/plain": [
       "([7, 2, 1, 0, 4, 1, 4, 9, 4, 9, 0, 6, 9, 0, 1, 5, 9, 7, 3, 4],\n",
       " [773,\n",
       "  360,\n",
       "  466,\n",
       "  451,\n",
       "  914,\n",
       "  466,\n",
       "  272,\n",
       "  744,\n",
       "  237,\n",
       "  167,\n",
       "  524,\n",
       "  488,\n",
       "  116,\n",
       "  210,\n",
       "  678,\n",
       "  316,\n",
       "  334,\n",
       "  522,\n",
       "  30,\n",
       "  92])"
      ]
     },
     "execution_count": 22,
     "metadata": {},
     "output_type": "execute_result"
    }
   ],
   "source": [
    "y_pred, indexes = knn(X_train, X_test, y_train, k = 10)\n",
    "y_pred, indexes"
   ]
  },
  {
   "cell_type": "code",
   "execution_count": 23,
   "id": "78ab9b94",
   "metadata": {},
   "outputs": [
    {
     "name": "stdout",
     "output_type": "stream",
     "text": [
      "[773, 360, 466, 451, 914, 466, 272, 744, 237, 167, 524, 488, 116, 210, 678, 316, 334, 522, 30, 92]\n"
     ]
    }
   ],
   "source": [
    "print(indexes)"
   ]
  },
  {
   "cell_type": "code",
   "execution_count": 24,
   "id": "75adc1b7",
   "metadata": {},
   "outputs": [],
   "source": [
    "for index in indexes:\n",
    "    write_image((temp[index]),f'{OUTPUT_DATA}/{y_train[index]}.png')"
   ]
  },
  {
   "cell_type": "code",
   "execution_count": 25,
   "id": "e30ad7cb",
   "metadata": {},
   "outputs": [
    {
     "name": "stdout",
     "output_type": "stream",
     "text": [
      "95.0\n"
     ]
    }
   ],
   "source": [
    "accuracy = sum([y_pred_i == y_test_i for y_pred_i, y_test_i in zip(y_pred,y_test)]) / len(y_test)\n",
    "print(accuracy * 100)"
   ]
  },
  {
   "cell_type": "markdown",
   "id": "fac0e64d",
   "metadata": {},
   "source": [
    "### -------------------------------------------------------------------------------------------------------------------------------------------------------------------"
   ]
  }
 ],
 "metadata": {
  "kernelspec": {
   "display_name": "Python 3",
   "language": "python",
   "name": "python3"
  },
  "language_info": {
   "codemirror_mode": {
    "name": "ipython",
    "version": 3
   },
   "file_extension": ".py",
   "mimetype": "text/x-python",
   "name": "python",
   "nbconvert_exporter": "python",
   "pygments_lexer": "ipython3",
   "version": "3.8.8"
  }
 },
 "nbformat": 4,
 "nbformat_minor": 5
}
