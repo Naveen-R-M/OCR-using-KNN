{
 "cells": [
  {
   "cell_type": "markdown",
   "source": [
    "###### --------------------------------------------------------------------------------------------------------------------------------------------------------------------------------------------------------\n",
    "###### OCR using KNN\n",
    "###### --------------------------------------------------------------------------------------------------------------------------------------------------------------------------------------------------------"
   ],
   "metadata": {}
  },
  {
   "cell_type": "code",
   "execution_count": 1,
   "source": [
    "import os\n",
    "from dotenv import load_dotenv"
   ],
   "outputs": [],
   "metadata": {}
  },
  {
   "cell_type": "code",
   "execution_count": 2,
   "source": [
    "from PIL import Image\r\n",
    "import numpy as np"
   ],
   "outputs": [],
   "metadata": {}
  },
  {
   "cell_type": "code",
   "execution_count": 3,
   "source": [
    "load_dotenv()"
   ],
   "outputs": [
    {
     "output_type": "execute_result",
     "data": {
      "text/plain": [
       "True"
      ]
     },
     "metadata": {},
     "execution_count": 3
    }
   ],
   "metadata": {}
  },
  {
   "cell_type": "code",
   "execution_count": 4,
   "source": [
    "DATA_DIR = os.getenv('DATA_DIR')\r\n",
    "TEST_DATA = os.getenv('TEST_DATA')\r\n",
    "TEST_LABELS = os.getenv('TEST_LABELS')\r\n",
    "TRAIN_DATA = os.getenv('TRAIN_DATA')\r\n",
    "TRAIN_LABELS = os.getenv('TRAIN_LABELS')\r\n",
    "OUTPUT_DATA = os.getenv('OUTPUT_DATA')"
   ],
   "outputs": [],
   "metadata": {}
  },
  {
   "cell_type": "code",
   "execution_count": 7,
   "source": [
    "def read_image(path):\r\n",
    "    return np.asarray(Image.open(path).convert('L'))"
   ],
   "outputs": [],
   "metadata": {}
  },
  {
   "cell_type": "code",
   "execution_count": 8,
   "source": [
    "def write_image(image,path):\r\n",
    "    img = Image.fromarray(np.array(image),'L')\r\n",
    "    img.save(path)"
   ],
   "outputs": [],
   "metadata": {}
  },
  {
   "cell_type": "code",
   "execution_count": 9,
   "source": [
    "def int_to_bytes(int_data):\r\n",
    "    return int_data.to_bytes(2,'big')"
   ],
   "outputs": [],
   "metadata": {}
  },
  {
   "cell_type": "code",
   "execution_count": 10,
   "source": [
    "def bytes_to_int(byte_data):\r\n",
    "    return int.from_bytes(byte_data,'big')"
   ],
   "outputs": [],
   "metadata": {}
  },
  {
   "cell_type": "code",
   "execution_count": 11,
   "source": [
    "def read_images(file_name, n_max_images = None):\r\n",
    "    images = []\r\n",
    "    with open(file_name,'rb') as f:\r\n",
    "        magic_number = bytes_to_int(f.read(4))\r\n",
    "        n_images = bytes_to_int(f.read(4))\r\n",
    "        n_rows = bytes_to_int(f.read(4))\r\n",
    "        n_columns = bytes_to_int(f.read(4))\r\n",
    "        \r\n",
    "        if n_max_images:\r\n",
    "            n_images = n_max_images\r\n",
    "        \r\n",
    "        print('images : ',n_images)\r\n",
    "        print('rows : ',n_rows)\r\n",
    "        print('columns : ',n_columns)\r\n",
    "        \r\n",
    "        for index in range(n_images):\r\n",
    "            image = []\r\n",
    "            for row in range(n_rows):\r\n",
    "                row = []\r\n",
    "                for col in range(n_columns):\r\n",
    "                    pixel = f.read(1)\r\n",
    "                    row.append(pixel)\r\n",
    "                image.append(row)\r\n",
    "            images.append(image)\r\n",
    "        return images"
   ],
   "outputs": [],
   "metadata": {}
  },
  {
   "cell_type": "code",
   "execution_count": 12,
   "source": [
    "def read_labels(file_name, n_max_labels = None):\n",
    "    labels = []\n",
    "    with open(file_name, 'rb') as f:\n",
    "        magic_number = bytes_to_int(f.read(4))\n",
    "        n_labels = bytes_to_int(f.read(4))\n",
    "        \n",
    "        if n_max_labels:\n",
    "            n_labels = n_max_labels\n",
    "        \n",
    "        for index in range(n_labels):\n",
    "            label = bytes_to_int(f.read(1))\n",
    "            labels.append(label)\n",
    "        return labels\n",
    "            "
   ],
   "outputs": [],
   "metadata": {}
  },
  {
   "cell_type": "code",
   "execution_count": 13,
   "source": [
    "train_samples = 1000\n",
    "test_samples = 20"
   ],
   "outputs": [],
   "metadata": {}
  },
  {
   "cell_type": "code",
   "execution_count": 14,
   "source": [
    "X_train = read_images(TRAIN_DATA, train_samples)"
   ],
   "outputs": [
    {
     "output_type": "stream",
     "name": "stdout",
     "text": [
      "images :  1000\n",
      "rows :  28\n",
      "columns :  28\n"
     ]
    }
   ],
   "metadata": {}
  },
  {
   "cell_type": "code",
   "execution_count": 15,
   "source": [
    "X_test = read_images(TEST_DATA,test_samples)\n",
    "\n",
    "y_train = read_labels(TRAIN_LABELS,train_samples)\n",
    "\n",
    "y_test = read_labels(TEST_LABELS,test_samples)"
   ],
   "outputs": [
    {
     "output_type": "stream",
     "name": "stdout",
     "text": [
      "images :  20\n",
      "rows :  28\n",
      "columns :  28\n"
     ]
    }
   ],
   "metadata": {}
  },
  {
   "cell_type": "code",
   "execution_count": 16,
   "source": [
    "def flatten_list(sample):\n",
    "    return [pixel for row in sample for pixel in row]\n",
    "\n",
    "def extract_features(X):\n",
    "    return [flatten_list(sample) for sample in X]"
   ],
   "outputs": [],
   "metadata": {}
  },
  {
   "cell_type": "code",
   "execution_count": 17,
   "source": [
    "temp = X_train\n",
    "temp1 = X_test"
   ],
   "outputs": [],
   "metadata": {}
  },
  {
   "cell_type": "code",
   "execution_count": 18,
   "source": [
    "X_train = temp\n",
    "X_test = temp1\n",
    "X_train = extract_features(X_train)\n",
    "X_test = extract_features(X_test)"
   ],
   "outputs": [],
   "metadata": {}
  },
  {
   "cell_type": "code",
   "execution_count": 19,
   "source": [
    "def eucledian(train_image, test_image):\n",
    "    return sum(\n",
    "    [\n",
    "       (bytes_to_int(x_i) - bytes_to_int(y_i))**2 for x_i, y_i in zip(train_image,test_image)\n",
    "    ]\n",
    "    )**0.5"
   ],
   "outputs": [],
   "metadata": {}
  },
  {
   "cell_type": "code",
   "execution_count": 20,
   "source": [
    "def get_training_distances(X_train, test_image):\n",
    "    return [eucledian(train_image, test_image) for train_image in X_train]"
   ],
   "outputs": [],
   "metadata": {}
  },
  {
   "cell_type": "code",
   "execution_count": 21,
   "source": [
    "def knn(X_train, X_test, y_train, k = 3):\n",
    "    y_pred = []\n",
    "    indexes = []\n",
    "    for test_image_index, test_image in enumerate(X_test):\n",
    "        training_distances = get_training_distances(X_train, test_image)\n",
    "        training_distances = [index[0] for index in sorted(enumerate(training_distances),key = lambda x : x[1])]\n",
    "        guessed_values = [y_train[index] for index in training_distances[:k]]\n",
    "        y_sample = max(guessed_values, key= guessed_values.count)\n",
    "        y_pred.append(y_sample)\n",
    "        indexes.append(training_distances[guessed_values.index(y_sample)])\n",
    "#         output_image = int_to_bytes(y_train[training_distances[index]])\n",
    "#         write_image(X_train[training_distances[index]],f'{OUTPUT_DATA}{index}.png')\n",
    "    return y_pred, indexes"
   ],
   "outputs": [],
   "metadata": {}
  },
  {
   "cell_type": "code",
   "execution_count": 22,
   "source": [
    "y_pred, indexes = knn(X_train, X_test, y_train, k = 10)\n",
    "y_pred, indexes"
   ],
   "outputs": [
    {
     "output_type": "execute_result",
     "data": {
      "text/plain": [
       "([7, 2, 1, 0, 4, 1, 4, 9, 4, 9, 0, 6, 9, 0, 1, 5, 9, 7, 3, 4],\n",
       " [773,\n",
       "  360,\n",
       "  466,\n",
       "  451,\n",
       "  914,\n",
       "  466,\n",
       "  272,\n",
       "  744,\n",
       "  237,\n",
       "  167,\n",
       "  524,\n",
       "  488,\n",
       "  116,\n",
       "  210,\n",
       "  678,\n",
       "  316,\n",
       "  334,\n",
       "  522,\n",
       "  30,\n",
       "  92])"
      ]
     },
     "metadata": {},
     "execution_count": 22
    }
   ],
   "metadata": {}
  },
  {
   "cell_type": "code",
   "execution_count": 23,
   "source": [
    "print(indexes)"
   ],
   "outputs": [
    {
     "output_type": "stream",
     "name": "stdout",
     "text": [
      "[773, 360, 466, 451, 914, 466, 272, 744, 237, 167, 524, 488, 116, 210, 678, 316, 334, 522, 30, 92]\n"
     ]
    }
   ],
   "metadata": {}
  },
  {
   "cell_type": "code",
   "execution_count": 24,
   "source": [
    "for index in indexes:\n",
    "    write_image((temp[index]),f'{OUTPUT_DATA}/{y_train[index]}.png')"
   ],
   "outputs": [],
   "metadata": {}
  },
  {
   "cell_type": "code",
   "execution_count": 25,
   "source": [
    "accuracy = sum([y_pred_i == y_test_i for y_pred_i, y_test_i in zip(y_pred,y_test)]) / len(y_test)\n",
    "print(accuracy * 100)"
   ],
   "outputs": [
    {
     "output_type": "stream",
     "name": "stdout",
     "text": [
      "95.0\n"
     ]
    }
   ],
   "metadata": {}
  },
  {
   "cell_type": "markdown",
   "source": [
    "### -------------------------------------------------------------------------------------------------------------------------------------------------------------------"
   ],
   "metadata": {}
  }
 ],
 "metadata": {
  "kernelspec": {
   "display_name": "Python 3",
   "language": "python",
   "name": "python3"
  },
  "language_info": {
   "codemirror_mode": {
    "name": "ipython",
    "version": 3
   },
   "file_extension": ".py",
   "mimetype": "text/x-python",
   "name": "python",
   "nbconvert_exporter": "python",
   "pygments_lexer": "ipython3",
   "version": "3.8.8"
  }
 },
 "nbformat": 4,
 "nbformat_minor": 5
}